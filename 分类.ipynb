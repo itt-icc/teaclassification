{
 "cells": [
  {
   "cell_type": "code",
   "execution_count": 152,
   "metadata": {},
   "outputs": [],
   "source": [
    "import os\n",
    "import numpy as np\n",
    "import pandas as pd\n",
    "import csv\n",
    "import random\n",
    "import time\n",
    "from sklearn.cross_decomposition import PLSRegression\n",
    "from sklearn.model_selection import train_test_split\n",
    "from pandas import Series, DataFrame\n",
    "from sklearn.metrics import accuracy_score, mean_squared_error, r2_score,confusion_matrix\n",
    "import matplotlib.pyplot as plt\n",
    "from sklearn.preprocessing import MinMaxScaler\n",
    "from scipy.signal import savgol_filter\n",
    "from sklearn.discriminant_analysis import LinearDiscriminantAnalysis\n",
    "from sklearn import preprocessing"
   ]
  },
  {
   "cell_type": "code",
   "execution_count": 153,
   "metadata": {},
   "outputs": [],
   "source": [
    "#可视化函数，返回一个plt对象\n",
    "def PlotSpectrum(spec):\n",
    "    plt.figure(figsize=(5.2, 3.1), dpi=600)\n",
    "    col = spec.columns.values.tolist()\n",
    "    x = np.linspace(float(col[0]), float(col[-1]),len(col))\n",
    "    for i in range(spec.shape[0]):\n",
    "        plt.plot(x, spec.iloc[i, :], linewidth=1)\n",
    "    fonts = 10\n",
    "    plt.xlim(float(col[0]), float(col[-1]))\n",
    "    plt.xlabel('Wavelength (nm)', fontsize=fonts)\n",
    "    plt.ylabel('absorbance (AU)', fontsize=fonts)\n",
    "    plt.yticks(fontsize=fonts)\n",
    "    plt.xticks(fontsize=fonts)\n",
    "    plt.tight_layout(pad=0.3)\n",
    "    plt.grid(True)\n",
    "    return plt"
   ]
  },
  {
   "cell_type": "code",
   "execution_count": 154,
   "metadata": {},
   "outputs": [],
   "source": [
    "#定义SG-filter预处理函数\n",
    "def smooth_acf_savgol_(sdata, windowsize=9, polyorder=3):#s_filter\n",
    "    col = sdata.columns.values.tolist()\n",
    "    smoothed = savgol_filter(sdata, windowsize, polyorder)\n",
    "    return pd.DataFrame(smoothed, columns=col)"
   ]
  },
  {
   "cell_type": "code",
   "execution_count": 155,
   "metadata": {},
   "outputs": [],
   "source": [
    "#定义minmaxscaler预处理函数\n",
    "def minmaxScaler(sdata):\n",
    "    col = sdata.columns.values.tolist()#获取行索引\n",
    "    scaler = MinMaxScaler()\n",
    "    scaler.fit(sdata)\n",
    "    newsdata=scaler.transform(sdata)#得到array\n",
    "    new_sdata=pd.DataFrame(newsdata, columns=col)#转为dataframe\n",
    "    return new_sdata\n",
    "def scale(X_train, X_test):\n",
    "    col=X_train.columns.tolist()\n",
    "    scaler = preprocessing.MinMaxScaler().fit(X_train) \n",
    "    X_train_scaled = scaler.transform(X_train)\n",
    "    X_test_scaled = scaler.transform(X_test)\n",
    "    return [pd.DataFrame(X_train_scaled,columns=col), pd.DataFrame(X_test_scaled,columns=col)] "
   ]
  },
  {
   "cell_type": "code",
   "execution_count": 156,
   "metadata": {},
   "outputs": [],
   "source": [
    "def set_random():\n",
    "    os.environ['PYTHONHASHSEED'] = '0'\n",
    "    np.random.seed(42)\n",
    "    random.seed(12345)"
   ]
  },
  {
   "cell_type": "code",
   "execution_count": 157,
   "metadata": {},
   "outputs": [],
   "source": [
    "#数据应当按照类别 均匀 划分\n",
    "def data_split(df,test_percent):\n",
    "    col = df.columns.values.tolist()\n",
    "    # label_num=list(set(df['year'].tolist()))\n",
    "    label_num=[1,3,6,9]\n",
    "    df_train=pd.DataFrame(columns=col)\n",
    "    df_test=pd.DataFrame(columns=col)\n",
    "    for i in label_num:\n",
    "        # if i==5:continue\n",
    "        # print(i)\n",
    "        _train,_test=train_test_split(df[df[\"year\"]==i],test_size = test_percent,random_state=42)\n",
    "        df_train=df_train.append(_train)#注意覆盖\n",
    "        df_test=df_test.append(_test)\n",
    "    return df_train, df_test"
   ]
  },
  {
   "cell_type": "code",
   "execution_count": 158,
   "metadata": {},
   "outputs": [],
   "source": [
    "#特征与label划分\n",
    "def feature_label_split(sdata):\n",
    "    feature=sdata.iloc[:,0:sdata.shape[1]-1]\n",
    "    label=sdata.iloc[:,sdata.shape[1]-1]\n",
    "    return feature,label"
   ]
  },
  {
   "cell_type": "code",
   "execution_count": 159,
   "metadata": {},
   "outputs": [],
   "source": [
    "#数据读取与可视化\n",
    "data=pd.read_csv('yangben.csv',header=0,index_col=0)\n",
    "data=data.dropna(axis=0,how='any')\n",
    "data=data.drop(index=(data[data[\"462\"]>0.15].index))\n",
    "# PlotSpectrum(data.iloc[:,0:data.shape[1]-1]).show()\n",
    "# data[data[\"year\"]==3].shape"
   ]
  },
  {
   "cell_type": "code",
   "execution_count": 160,
   "metadata": {
    "tags": []
   },
   "outputs": [],
   "source": [
    "#数据划分\n",
    "df_train,df_test=data_split(data,test_percent=0.2)\n",
    "train_x,train_y=feature_label_split(df_train)\n",
    "test_x,test_y=feature_label_split(df_test)"
   ]
  },
  {
   "cell_type": "code",
   "execution_count": 161,
   "metadata": {},
   "outputs": [
    {
     "output_type": "execute_result",
     "data": {
      "text/plain": "((767, 130), (767,), (193, 130), (193,))"
     },
     "metadata": {},
     "execution_count": 161
    }
   ],
   "source": [
    "train_x.shape,train_y.shape,test_x.shape,test_y.shape"
   ]
  },
  {
   "cell_type": "code",
   "execution_count": 162,
   "metadata": {},
   "outputs": [],
   "source": [
    "#5折交叉验证,寻找最优参数\n",
    "def find_k(train_x,train_y):\n",
    "    from sklearn.model_selection import KFold\n",
    "    kf = KFold(n_splits=4, random_state=42, shuffle=True)\n",
    "    kf.get_n_splits(train_x)\n",
    "    ACCU={}\n",
    "    for k in range(2,42):\n",
    "        accu=0\n",
    "        for train_index, validation_index in kf.split(train_x):\n",
    "            X_train, X_valid = train_x.iloc[train_index], train_x.iloc[validation_index]\n",
    "            y_train, y_valid = train_y.iloc[train_index], train_y.iloc[validation_index]\n",
    "\n",
    "            #使用pls得到降维之后的特征\n",
    "            pls = PLSRegression(n_components=k)\n",
    "            pls.fit(X_train,y_train)\n",
    "            new_X_train=pls.transform(X_train, Y=None, copy=True)\n",
    "            new_X_valid=pls.transform(X_valid, Y=None, copy=True)\n",
    "            y_valid = y_valid.astype('int')#注意 object->object\n",
    "            y_train = y_train.astype('int')\n",
    "            #使用LDA分类器(无超参数)\n",
    "            lda=LinearDiscriminantAnalysis()\n",
    "            lda.fit(new_X_train,y_train)\n",
    "            y_train_pred=lda.predict(new_X_train)\n",
    "            y_valid_pred=lda.predict(new_X_valid)\n",
    "            acc_train=accuracy_score(y_train_pred,y_train)\n",
    "            acc_valid=accuracy_score(y_valid_pred,y_valid)\n",
    "            accu+=acc_valid\n",
    "        ACCU[k]=accu\n",
    "    #根据验证集选取最优超参数\n",
    "    k=max(ACCU,key=lambda x:ACCU[x])\n",
    "    return k"
   ]
  },
  {
   "cell_type": "code",
   "execution_count": 163,
   "metadata": {},
   "outputs": [],
   "source": [
    "#PLS-LDA\n",
    "def PLS_LDA(train_x,train_y,test_x,test_y):\n",
    "    k=find_k(train_x,train_y)\n",
    "    print(\"best_k={:d}\".format(k))\n",
    "    #得到最优的PLS-LDA并测试\n",
    "    PLS_best=PLSRegression(n_components=k)\n",
    "    PLS_best.fit(train_x,train_y)\n",
    "    new_train_x=PLS_best.transform(train_x,Y=None, copy=True)#降维\n",
    "    new_test_x=PLS_best.transform(test_x,Y=None, copy=True)\n",
    "\n",
    "    train_y = train_y.astype('int')\n",
    "    test_y = test_y.astype('int')\n",
    "    lda_best=LinearDiscriminantAnalysis().fit(new_train_x,train_y)\n",
    "    train_y_pred=lda_best.predict(new_train_x)\n",
    "    test_y_pred=lda_best.predict(new_test_x)\n",
    "    \n",
    "    acc_train = accuracy_score(train_y_pred,train_y)\n",
    "    acc_test = accuracy_score(test_y_pred,test_y)\n",
    "    print('\\n\\ntraining_accuracy:{:.4f}\\n test_accuracy:{:.4f}\\n'.format(acc_train, acc_test))\n",
    "    print('test_confusion_matrix:\\n',confusion_matrix(test_y_pred,test_y))\n",
    "    return acc_train,acc_test"
   ]
  },
  {
   "cell_type": "code",
   "execution_count": 164,
   "metadata": {},
   "outputs": [],
   "source": [
    "def SV_classfic(train_x,train_y,test_x,test_y):\n",
    "    from sklearn import svm\n",
    "    from sklearn.model_selection import GridSearchCV\n",
    "    param_dist = {\n",
    "    'svc': {\n",
    "        #'C': [10**k for k in range(-5,10)],\n",
    "        'C': np.arange(100,900,100).tolist(),\n",
    "        #'C': np.arange(10,500,20).tolist(),\n",
    "        #'C': np.arange(30,300,10).tolist(),\n",
    "        #'C': np.arange(50,265,5).tolist(),\n",
    "        #'C': [10**k for k in range(-5,10)],\n",
    "        # 'gamma': [1e-1]\n",
    "       'gamma':[10**j for j in range(-5,0)]\n",
    "            }\n",
    "    }\n",
    "    svc =svm.SVC(kernel='linear', gamma='auto')\n",
    "    #svr =svm.SVR(gamma='auto')\n",
    "    gsearch = GridSearchCV(estimator=svc,param_grid =param_dist['svc'],scoring='neg_mean_absolute_error',n_jobs=-1, \n",
    "                           refit=True, cv=5, verbose=0)\n",
    "    gsearch.fit(train_x,train_y)\n",
    "    train_y_pred=gsearch.predict(train_x)\n",
    "    test_y_pred=gsearch.predict(test_x)\n",
    "    acc_train = accuracy_score(train_y_pred,train_y)\n",
    "    acc_test = accuracy_score(test_y_pred,test_y)\n",
    "    print('\\n\\ntraining_accuracy:{:.4f}\\n test_accuracy:{:.4f}\\n'.format(acc_train, acc_test))\n",
    "    print('test_confusion_matrix:\\n',confusion_matrix(test_y_pred,test_y))\n",
    "    print(gsearch.best_params_)\n",
    "    return acc_train,acc_test\n"
   ]
  },
  {
   "cell_type": "code",
   "execution_count": 165,
   "metadata": {
    "tags": []
   },
   "outputs": [
    {
     "output_type": "stream",
     "name": "stdout",
     "text": "best_k=40\n\n\ntraining_accuracy:0.7718\n test_accuracy:0.6891\n\ntest_confusion_matrix:\n [[ 9  0  0  0]\n [ 3 59 16  2]\n [ 4 26 49  5]\n [ 0  2  2 16]]\n"
    },
    {
     "output_type": "execute_result",
     "data": {
      "text/plain": "  algorithm  train_accu  test_accu\n0   PLS-LDA    0.771838   0.689119",
      "text/html": "<div>\n<style scoped>\n    .dataframe tbody tr th:only-of-type {\n        vertical-align: middle;\n    }\n\n    .dataframe tbody tr th {\n        vertical-align: top;\n    }\n\n    .dataframe thead th {\n        text-align: right;\n    }\n</style>\n<table border=\"1\" class=\"dataframe\">\n  <thead>\n    <tr style=\"text-align: right;\">\n      <th></th>\n      <th>algorithm</th>\n      <th>train_accu</th>\n      <th>test_accu</th>\n    </tr>\n  </thead>\n  <tbody>\n    <tr>\n      <th>0</th>\n      <td>PLS-LDA</td>\n      <td>0.771838</td>\n      <td>0.689119</td>\n    </tr>\n  </tbody>\n</table>\n</div>"
     },
     "metadata": {},
     "execution_count": 165
    }
   ],
   "source": [
    "#不采用预处理方法\n",
    "acc_train,acc_test=PLS_LDA(train_x,train_y,test_x,test_y)\n",
    "result_table = pd.DataFrame(columns=['algorithm','train_accu', 'test_accu'])\n",
    "result_PLSLDA = {'algorithm': 'PLS-LDA','train_accu': acc_train,'test_accu': acc_test}\n",
    "result_table = result_table.append(result_PLSLDA, sort=False, ignore_index=True)\n",
    "result_table"
   ]
  },
  {
   "cell_type": "code",
   "execution_count": 166,
   "metadata": {
    "tags": []
   },
   "outputs": [
    {
     "output_type": "stream",
     "name": "stdout",
     "text": "best_k=40\n\n\ntraining_accuracy:0.7718\n test_accuracy:0.6891\n\ntest_confusion_matrix:\n [[ 9  0  0  0]\n [ 3 59 16  2]\n [ 4 26 49  5]\n [ 0  2  2 16]]\n"
    },
    {
     "output_type": "execute_result",
     "data": {
      "text/plain": "        algorithm  train_accu  test_accu\n0         PLS-LDA    0.771838   0.689119\n1  minmax+PLS-LDA    0.771838   0.689119",
      "text/html": "<div>\n<style scoped>\n    .dataframe tbody tr th:only-of-type {\n        vertical-align: middle;\n    }\n\n    .dataframe tbody tr th {\n        vertical-align: top;\n    }\n\n    .dataframe thead th {\n        text-align: right;\n    }\n</style>\n<table border=\"1\" class=\"dataframe\">\n  <thead>\n    <tr style=\"text-align: right;\">\n      <th></th>\n      <th>algorithm</th>\n      <th>train_accu</th>\n      <th>test_accu</th>\n    </tr>\n  </thead>\n  <tbody>\n    <tr>\n      <th>0</th>\n      <td>PLS-LDA</td>\n      <td>0.771838</td>\n      <td>0.689119</td>\n    </tr>\n    <tr>\n      <th>1</th>\n      <td>minmax+PLS-LDA</td>\n      <td>0.771838</td>\n      <td>0.689119</td>\n    </tr>\n  </tbody>\n</table>\n</div>"
     },
     "metadata": {},
     "execution_count": 166
    }
   ],
   "source": [
    "#minmax数据预处理与可视化\n",
    "df_train,df_test=data_split(data,test_percent=0.2)\n",
    "train_x,train_y=feature_label_split(df_train)\n",
    "test_x,test_y=feature_label_split(df_test)\n",
    "train_x,test_x=scale(train_x,test_x)\n",
    "# PlotSpectrum(train_x).show()\n",
    "# PlotSpectrum(test_x).show()\n",
    "#minmaxscaling+PLS-LDA\n",
    "acc_train,acc_test=PLS_LDA(train_x,train_y,test_x,test_y)\n",
    "result_minmax_PLSLDA = {'algorithm': 'minmax+PLS-LDA','train_accu': acc_train,'test_accu': acc_test}\n",
    "result_table = result_table.append(result_minmax_PLSLDA, sort=False, ignore_index=True)\n",
    "result_table"
   ]
  },
  {
   "cell_type": "code",
   "execution_count": 167,
   "metadata": {
    "tags": []
   },
   "outputs": [
    {
     "output_type": "stream",
     "name": "stdout",
     "text": "best_k=35\n\n\ntraining_accuracy:0.7432\n test_accuracy:0.7047\n\ntest_confusion_matrix:\n [[10  0  0  0]\n [ 2 62 17  1]\n [ 4 23 48  6]\n [ 0  2  2 16]]\n"
    },
    {
     "output_type": "execute_result",
     "data": {
      "text/plain": "        algorithm  train_accu  test_accu\n0         PLS-LDA    0.771838   0.689119\n1  minmax+PLS-LDA    0.771838   0.689119\n2     SGF+PLS-LDA    0.743155   0.704663",
      "text/html": "<div>\n<style scoped>\n    .dataframe tbody tr th:only-of-type {\n        vertical-align: middle;\n    }\n\n    .dataframe tbody tr th {\n        vertical-align: top;\n    }\n\n    .dataframe thead th {\n        text-align: right;\n    }\n</style>\n<table border=\"1\" class=\"dataframe\">\n  <thead>\n    <tr style=\"text-align: right;\">\n      <th></th>\n      <th>algorithm</th>\n      <th>train_accu</th>\n      <th>test_accu</th>\n    </tr>\n  </thead>\n  <tbody>\n    <tr>\n      <th>0</th>\n      <td>PLS-LDA</td>\n      <td>0.771838</td>\n      <td>0.689119</td>\n    </tr>\n    <tr>\n      <th>1</th>\n      <td>minmax+PLS-LDA</td>\n      <td>0.771838</td>\n      <td>0.689119</td>\n    </tr>\n    <tr>\n      <th>2</th>\n      <td>SGF+PLS-LDA</td>\n      <td>0.743155</td>\n      <td>0.704663</td>\n    </tr>\n  </tbody>\n</table>\n</div>"
     },
     "metadata": {},
     "execution_count": 167
    }
   ],
   "source": [
    "#SGFILTER数据预处理与可视化\n",
    "df_train,df_test=data_split(data,test_percent=0.2)\n",
    "train_x,train_y=feature_label_split(df_train)\n",
    "test_x,test_y=feature_label_split(df_test)\n",
    "\n",
    "train_x=smooth_acf_savgol_(train_x)\n",
    "test_x=smooth_acf_savgol_(test_x)\n",
    "\n",
    "# PlotSpectrum(train_x).show()\n",
    "# PlotSpectrum(test_x).show()\n",
    "#SG_filter+PLS-LDA\n",
    "acc_train,acc_test=PLS_LDA(train_x,train_y,test_x,test_y)\n",
    "result_SGF_PLSLDA = {'algorithm': 'SGF+PLS-LDA','train_accu': acc_train,'test_accu': acc_test}\n",
    "result_table = result_table.append(result_SGF_PLSLDA, sort=False, ignore_index=True)\n",
    "result_table"
   ]
  },
  {
   "cell_type": "code",
   "execution_count": 168,
   "metadata": {
    "tags": []
   },
   "outputs": [
    {
     "output_type": "stream",
     "name": "stderr",
     "text": "C:\\Users\\ZYC\\AppData\\Local\\Programs\\Python\\Python37\\lib\\site-packages\\sklearn\\model_selection\\_search.py:814: DeprecationWarning: The default of the `iid` parameter will change from True to False in version 0.22 and will be removed in 0.24. This will change numeric results when test-set sizes are unequal.\n  DeprecationWarning)\n\n\ntraining_accuracy:0.7419\n test_accuracy:0.7150\n\ntest_confusion_matrix:\n [[14  0  0  0]\n [ 2 60 17  2]\n [ 0 21 46  3]\n [ 0  6  4 18]]\n{'C': 800, 'gamma': 1e-05}\n"
    },
    {
     "output_type": "execute_result",
     "data": {
      "text/plain": "  algorithm  train_accu  test_accu\n0       SVC    0.741851   0.715026",
      "text/html": "<div>\n<style scoped>\n    .dataframe tbody tr th:only-of-type {\n        vertical-align: middle;\n    }\n\n    .dataframe tbody tr th {\n        vertical-align: top;\n    }\n\n    .dataframe thead th {\n        text-align: right;\n    }\n</style>\n<table border=\"1\" class=\"dataframe\">\n  <thead>\n    <tr style=\"text-align: right;\">\n      <th></th>\n      <th>algorithm</th>\n      <th>train_accu</th>\n      <th>test_accu</th>\n    </tr>\n  </thead>\n  <tbody>\n    <tr>\n      <th>0</th>\n      <td>SVC</td>\n      <td>0.741851</td>\n      <td>0.715026</td>\n    </tr>\n  </tbody>\n</table>\n</div>"
     },
     "metadata": {},
     "execution_count": 168
    }
   ],
   "source": [
    "#不采用预处理方法\n",
    "acc_train,acc_test=SV_classfic(train_x,train_y,test_x,test_y)\n",
    "result_table = pd.DataFrame(columns=['algorithm','train_accu', 'test_accu'])\n",
    "result_SVC = {'algorithm': 'SVC','train_accu': acc_train,'test_accu': acc_test}\n",
    "result_table = result_table.append(result_SVC, sort=False, ignore_index=True)\n",
    "result_table"
   ]
  },
  {
   "cell_type": "code",
   "execution_count": 169,
   "metadata": {
    "tags": []
   },
   "outputs": [
    {
     "output_type": "stream",
     "name": "stderr",
     "text": "C:\\Users\\ZYC\\AppData\\Local\\Programs\\Python\\Python37\\lib\\site-packages\\sklearn\\model_selection\\_search.py:814: DeprecationWarning: The default of the `iid` parameter will change from True to False in version 0.22 and will be removed in 0.24. This will change numeric results when test-set sizes are unequal.\n  DeprecationWarning)\n\n\ntraining_accuracy:0.8096\n test_accuracy:0.7409\n\ntest_confusion_matrix:\n [[13  1  0  0]\n [ 3 63 15  1]\n [ 0 20 47  2]\n [ 0  3  5 20]]\n{'C': 200, 'gamma': 1e-05}\n"
    },
    {
     "output_type": "execute_result",
     "data": {
      "text/plain": "           algorithm  train_accu  test_accu\n0                SVC    0.741851   0.715026\n1  minmaxscaling+SVC    0.809648   0.740933",
      "text/html": "<div>\n<style scoped>\n    .dataframe tbody tr th:only-of-type {\n        vertical-align: middle;\n    }\n\n    .dataframe tbody tr th {\n        vertical-align: top;\n    }\n\n    .dataframe thead th {\n        text-align: right;\n    }\n</style>\n<table border=\"1\" class=\"dataframe\">\n  <thead>\n    <tr style=\"text-align: right;\">\n      <th></th>\n      <th>algorithm</th>\n      <th>train_accu</th>\n      <th>test_accu</th>\n    </tr>\n  </thead>\n  <tbody>\n    <tr>\n      <th>0</th>\n      <td>SVC</td>\n      <td>0.741851</td>\n      <td>0.715026</td>\n    </tr>\n    <tr>\n      <th>1</th>\n      <td>minmaxscaling+SVC</td>\n      <td>0.809648</td>\n      <td>0.740933</td>\n    </tr>\n  </tbody>\n</table>\n</div>"
     },
     "metadata": {},
     "execution_count": 169
    }
   ],
   "source": [
    "#minmax数据预处理与可视化\n",
    "df_train,df_test=data_split(data,test_percent=0.2)\n",
    "train_x,train_y=feature_label_split(df_train)\n",
    "test_x,test_y=feature_label_split(df_test)\n",
    "train_x,test_x=scale(train_x,test_x)\n",
    "# PlotSpectrum(train_x).show()\n",
    "# PlotSpectrum(test_x).show()\n",
    "#minmaxscaling+SVC\n",
    "acc_train,acc_test=SV_classfic(train_x,train_y,test_x,test_y)\n",
    "result_SVC = {'algorithm': 'minmaxscaling+SVC','train_accu': acc_train,'test_accu': acc_test}\n",
    "result_table = result_table.append(result_SVC, sort=False, ignore_index=True)\n",
    "result_table"
   ]
  },
  {
   "cell_type": "code",
   "execution_count": 170,
   "metadata": {
    "tags": []
   },
   "outputs": [
    {
     "output_type": "stream",
     "name": "stderr",
     "text": "C:\\Users\\ZYC\\AppData\\Local\\Programs\\Python\\Python37\\lib\\site-packages\\sklearn\\model_selection\\_search.py:814: DeprecationWarning: The default of the `iid` parameter will change from True to False in version 0.22 and will be removed in 0.24. This will change numeric results when test-set sizes are unequal.\n  DeprecationWarning)\n\n\ntraining_accuracy:0.7419\n test_accuracy:0.7150\n\ntest_confusion_matrix:\n [[14  0  0  0]\n [ 2 60 17  2]\n [ 0 21 46  3]\n [ 0  6  4 18]]\n{'C': 800, 'gamma': 1e-05}\n"
    },
    {
     "output_type": "execute_result",
     "data": {
      "text/plain": "           algorithm  train_accu  test_accu\n0                SVC    0.741851   0.715026\n1  minmaxscaling+SVC    0.809648   0.740933\n2      SG_filter+SVC    0.741851   0.715026",
      "text/html": "<div>\n<style scoped>\n    .dataframe tbody tr th:only-of-type {\n        vertical-align: middle;\n    }\n\n    .dataframe tbody tr th {\n        vertical-align: top;\n    }\n\n    .dataframe thead th {\n        text-align: right;\n    }\n</style>\n<table border=\"1\" class=\"dataframe\">\n  <thead>\n    <tr style=\"text-align: right;\">\n      <th></th>\n      <th>algorithm</th>\n      <th>train_accu</th>\n      <th>test_accu</th>\n    </tr>\n  </thead>\n  <tbody>\n    <tr>\n      <th>0</th>\n      <td>SVC</td>\n      <td>0.741851</td>\n      <td>0.715026</td>\n    </tr>\n    <tr>\n      <th>1</th>\n      <td>minmaxscaling+SVC</td>\n      <td>0.809648</td>\n      <td>0.740933</td>\n    </tr>\n    <tr>\n      <th>2</th>\n      <td>SG_filter+SVC</td>\n      <td>0.741851</td>\n      <td>0.715026</td>\n    </tr>\n  </tbody>\n</table>\n</div>"
     },
     "metadata": {},
     "execution_count": 170
    }
   ],
   "source": [
    "#SGFILTER数据预处理与可视化\n",
    "df_train,df_test=data_split(data,test_percent=0.2)\n",
    "train_x,train_y=feature_label_split(df_train)\n",
    "test_x,test_y=feature_label_split(df_test)\n",
    "\n",
    "train_x=smooth_acf_savgol_(train_x)\n",
    "test_x=smooth_acf_savgol_(test_x)\n",
    "\n",
    "# PlotSpectrum(train_x).show()\n",
    "# PlotSpectrum(test_x).show()\n",
    "#SG_filter+SVC\n",
    "acc_train,acc_test=SV_classfic(train_x,train_y,test_x,test_y)\n",
    "result_SVC = {'algorithm': 'SG_filter+SVC','train_accu': acc_train,'test_accu': acc_test}\n",
    "result_table = result_table.append(result_SVC, sort=False, ignore_index=True)\n",
    "result_table"
   ]
  },
  {
   "cell_type": "code",
   "execution_count": null,
   "metadata": {},
   "outputs": [],
   "source": []
  }
 ],
 "metadata": {
  "kernelspec": {
   "display_name": "Python 3.7.0 64-bit",
   "language": "python",
   "name": "python_defaultSpec_1595856352877"
  },
  "language_info": {
   "codemirror_mode": {
    "name": "ipython",
    "version": 3
   },
   "file_extension": ".py",
   "mimetype": "text/x-python",
   "name": "python",
   "nbconvert_exporter": "python",
   "pygments_lexer": "ipython3",
   "version": "3.5.2"
  }
 },
 "nbformat": 4,
 "nbformat_minor": 2
}